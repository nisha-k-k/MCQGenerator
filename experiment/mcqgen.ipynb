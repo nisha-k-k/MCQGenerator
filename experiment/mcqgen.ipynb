{
 "cells": [
  {
   "cell_type": "markdown",
   "id": "95287809",
   "metadata": {},
   "source": [
    "### This is an experimental notebook, which will be used for code experimentation before creating end-to-end python file "
   ]
  },
  {
   "cell_type": "code",
   "execution_count": null,
   "id": "e8d834a9",
   "metadata": {},
   "outputs": [],
   "source": []
  }
 ],
 "metadata": {
  "kernelspec": {
   "display_name": "Python 3 (ipykernel)",
   "language": "python",
   "name": "python3"
  },
  "language_info": {
   "codemirror_mode": {
    "name": "ipython",
    "version": 3
   },
   "file_extension": ".py",
   "mimetype": "text/x-python",
   "name": "python",
   "nbconvert_exporter": "python",
   "pygments_lexer": "ipython3",
   "version": "3.9.7"
  }
 },
 "nbformat": 4,
 "nbformat_minor": 5
}
